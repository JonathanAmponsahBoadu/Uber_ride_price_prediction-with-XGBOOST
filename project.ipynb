{
 "cells": [
  {
   "cell_type": "code",
   "execution_count": 3,
   "id": "6549ba74",
   "metadata": {},
   "outputs": [],
   "source": [
    "import pandas as pd"
   ]
  },
  {
   "cell_type": "markdown",
   "id": "1b32d1fd",
   "metadata": {},
   "source": [
    "# Load & Inspect\n"
   ]
  },
  {
   "cell_type": "code",
   "execution_count": 4,
   "id": "b9ecaff6",
   "metadata": {},
   "outputs": [],
   "source": [
    "# Load the dataset\n",
    "df = pd.read_csv(r\"C:\\Users\\USER\\Documents\\CPEN -L300\\PRESENT\\2ND SEM\\SENG 316 AI\\Project\\rideshare_kaggle.csv\")"
   ]
  },
  {
   "cell_type": "code",
   "execution_count": 5,
   "id": "4ce116fb",
   "metadata": {},
   "outputs": [
    {
     "name": "stdout",
     "output_type": "stream",
     "text": [
      "Shape: (693071, 57)\n",
      "\n",
      "Columns: ['id', 'timestamp', 'hour', 'day', 'month', 'datetime', 'timezone', 'source', 'destination', 'cab_type', 'product_id', 'name', 'price', 'distance', 'surge_multiplier', 'latitude', 'longitude', 'temperature', 'apparentTemperature', 'short_summary', 'long_summary', 'precipIntensity', 'precipProbability', 'humidity', 'windSpeed', 'windGust', 'windGustTime', 'visibility', 'temperatureHigh', 'temperatureHighTime', 'temperatureLow', 'temperatureLowTime', 'apparentTemperatureHigh', 'apparentTemperatureHighTime', 'apparentTemperatureLow', 'apparentTemperatureLowTime', 'icon', 'dewPoint', 'pressure', 'windBearing', 'cloudCover', 'uvIndex', 'visibility.1', 'ozone', 'sunriseTime', 'sunsetTime', 'moonPhase', 'precipIntensityMax', 'uvIndexTime', 'temperatureMin', 'temperatureMinTime', 'temperatureMax', 'temperatureMaxTime', 'apparentTemperatureMin', 'apparentTemperatureMinTime', 'apparentTemperatureMax', 'apparentTemperatureMaxTime']\n"
     ]
    }
   ],
   "source": [
    "# Shape and basic info\n",
    "print(\"Shape:\", df.shape)\n",
    "print(\"\\nColumns:\", df.columns.tolist())"
   ]
  },
  {
   "cell_type": "code",
   "execution_count": 6,
   "id": "1e7f8058",
   "metadata": {},
   "outputs": [
    {
     "name": "stdout",
     "output_type": "stream",
     "text": [
      "\n",
      "First 5 rows:\n",
      "                                     id     timestamp  hour  day  month  \\\n",
      "0  424553bb-7174-41ea-aeb4-fe06d4f4b9d7  1.544953e+09     9   16     12   \n",
      "1  4bd23055-6827-41c6-b23b-3c491f24e74d  1.543284e+09     2   27     11   \n",
      "2  981a3613-77af-4620-a42a-0c0866077d1e  1.543367e+09     1   28     11   \n",
      "3  c2d88af2-d278-4bfd-a8d0-29ca77cc5512  1.543554e+09     4   30     11   \n",
      "4  e0126e1f-8ca9-4f2e-82b3-50505a09db9a  1.543463e+09     3   29     11   \n",
      "\n",
      "              datetime          timezone            source    destination  \\\n",
      "0  2018-12-16 09:30:07  America/New_York  Haymarket Square  North Station   \n",
      "1  2018-11-27 02:00:23  America/New_York  Haymarket Square  North Station   \n",
      "2  2018-11-28 01:00:22  America/New_York  Haymarket Square  North Station   \n",
      "3  2018-11-30 04:53:02  America/New_York  Haymarket Square  North Station   \n",
      "4  2018-11-29 03:49:20  America/New_York  Haymarket Square  North Station   \n",
      "\n",
      "  cab_type  ... precipIntensityMax uvIndexTime  temperatureMin  \\\n",
      "0     Lyft  ...             0.1276  1544979600           39.89   \n",
      "1     Lyft  ...             0.1300  1543251600           40.49   \n",
      "2     Lyft  ...             0.1064  1543338000           35.36   \n",
      "3     Lyft  ...             0.0000  1543507200           34.67   \n",
      "4     Lyft  ...             0.0001  1543420800           33.10   \n",
      "\n",
      "   temperatureMinTime  temperatureMax  temperatureMaxTime  \\\n",
      "0          1545012000           43.68          1544968800   \n",
      "1          1543233600           47.30          1543251600   \n",
      "2          1543377600           47.55          1543320000   \n",
      "3          1543550400           45.03          1543510800   \n",
      "4          1543402800           42.18          1543420800   \n",
      "\n",
      "   apparentTemperatureMin  apparentTemperatureMinTime  apparentTemperatureMax  \\\n",
      "0                   33.73                  1545012000                   38.07   \n",
      "1                   36.20                  1543291200                   43.92   \n",
      "2                   31.04                  1543377600                   44.12   \n",
      "3                   30.30                  1543550400                   38.53   \n",
      "4                   29.11                  1543392000                   35.75   \n",
      "\n",
      "  apparentTemperatureMaxTime  \n",
      "0                 1544958000  \n",
      "1                 1543251600  \n",
      "2                 1543320000  \n",
      "3                 1543510800  \n",
      "4                 1543420800  \n",
      "\n",
      "[5 rows x 57 columns]\n"
     ]
    }
   ],
   "source": [
    "# Preview data\n",
    "print(\"\\nFirst 5 rows:\")\n",
    "print(df.head())"
   ]
  },
  {
   "cell_type": "code",
   "execution_count": 7,
   "id": "82620819",
   "metadata": {},
   "outputs": [
    {
     "name": "stdout",
     "output_type": "stream",
     "text": [
      "\n",
      "Missing values per column:\n",
      "id                                 0\n",
      "timestamp                          0\n",
      "hour                               0\n",
      "day                                0\n",
      "month                              0\n",
      "datetime                           0\n",
      "timezone                           0\n",
      "source                             0\n",
      "destination                        0\n",
      "cab_type                           0\n",
      "product_id                         0\n",
      "name                               0\n",
      "price                          55095\n",
      "distance                           0\n",
      "surge_multiplier                   0\n",
      "latitude                           0\n",
      "longitude                          0\n",
      "temperature                        0\n",
      "apparentTemperature                0\n",
      "short_summary                      0\n",
      "long_summary                       0\n",
      "precipIntensity                    0\n",
      "precipProbability                  0\n",
      "humidity                           0\n",
      "windSpeed                          0\n",
      "windGust                           0\n",
      "windGustTime                       0\n",
      "visibility                         0\n",
      "temperatureHigh                    0\n",
      "temperatureHighTime                0\n",
      "temperatureLow                     0\n",
      "temperatureLowTime                 0\n",
      "apparentTemperatureHigh            0\n",
      "apparentTemperatureHighTime        0\n",
      "apparentTemperatureLow             0\n",
      "apparentTemperatureLowTime         0\n",
      "icon                               0\n",
      "dewPoint                           0\n",
      "pressure                           0\n",
      "windBearing                        0\n",
      "cloudCover                         0\n",
      "uvIndex                            0\n",
      "visibility.1                       0\n",
      "ozone                              0\n",
      "sunriseTime                        0\n",
      "sunsetTime                         0\n",
      "moonPhase                          0\n",
      "precipIntensityMax                 0\n",
      "uvIndexTime                        0\n",
      "temperatureMin                     0\n",
      "temperatureMinTime                 0\n",
      "temperatureMax                     0\n",
      "temperatureMaxTime                 0\n",
      "apparentTemperatureMin             0\n",
      "apparentTemperatureMinTime         0\n",
      "apparentTemperatureMax             0\n",
      "apparentTemperatureMaxTime         0\n",
      "dtype: int64\n"
     ]
    }
   ],
   "source": [
    "# Check missing values\n",
    "print(\"\\nMissing values per column:\")\n",
    "print(df.isnull().sum())"
   ]
  },
  {
   "cell_type": "markdown",
   "id": "c1849736",
   "metadata": {},
   "source": [
    "# Remove Missing Prices & Check Duplicates\n"
   ]
  },
  {
   "cell_type": "code",
   "execution_count": 8,
   "id": "0077ba00",
   "metadata": {},
   "outputs": [],
   "source": [
    "# Remove rows where price is missing\n",
    "df = df.dropna(subset=['price'])"
   ]
  },
  {
   "cell_type": "code",
   "execution_count": 9,
   "id": "08f48992",
   "metadata": {},
   "outputs": [
    {
     "name": "stdout",
     "output_type": "stream",
     "text": [
      "Shape after removing missing prices: (637976, 57)\n"
     ]
    }
   ],
   "source": [
    "# Check shape after removal\n",
    "print(\"Shape after removing missing prices:\", df.shape)"
   ]
  },
  {
   "cell_type": "code",
   "execution_count": 10,
   "id": "52ad6f17",
   "metadata": {},
   "outputs": [
    {
     "name": "stdout",
     "output_type": "stream",
     "text": [
      "Number of duplicate rows: 0\n"
     ]
    }
   ],
   "source": [
    "# Check duplicates\n",
    "duplicates = df.duplicated().sum()\n",
    "print(\"Number of duplicate rows:\", duplicates)"
   ]
  },
  {
   "cell_type": "code",
   "execution_count": 11,
   "id": "b40b0540",
   "metadata": {},
   "outputs": [
    {
     "name": "stdout",
     "output_type": "stream",
     "text": [
      "Shape after removing duplicates: (637976, 57)\n"
     ]
    }
   ],
   "source": [
    "# Remove duplicates if any\n",
    "df = df.drop_duplicates()\n",
    "print(\"Shape after removing duplicates:\", df.shape)"
   ]
  },
  {
   "cell_type": "markdown",
   "id": "f40662bf",
   "metadata": {},
   "source": [
    "# Quick Categorical & Numerical Overview\n"
   ]
  },
  {
   "cell_type": "code",
   "execution_count": 12,
   "id": "ebe247d7",
   "metadata": {},
   "outputs": [
    {
     "name": "stdout",
     "output_type": "stream",
     "text": [
      "\n",
      "Categorical columns: ['id', 'datetime', 'timezone', 'source', 'destination', 'cab_type', 'product_id', 'name', 'short_summary', 'long_summary', 'icon']\n"
     ]
    }
   ],
   "source": [
    "# Categorical features\n",
    "categorical_cols = df.select_dtypes(include=['object']).columns\n",
    "print(\"\\nCategorical columns:\", categorical_cols.tolist())"
   ]
  },
  {
   "cell_type": "code",
   "execution_count": 13,
   "id": "d507b62b",
   "metadata": {},
   "outputs": [
    {
     "name": "stdout",
     "output_type": "stream",
     "text": [
      "\n",
      "cab_type unique values:\n",
      "['Lyft' 'Uber']\n",
      "\n",
      "name unique values:\n",
      "['Shared' 'Lux' 'Lyft' 'Lux Black XL' 'Lyft XL' 'Lux Black' 'UberXL'\n",
      " 'Black' 'UberX' 'WAV' 'Black SUV' 'UberPool']\n",
      "\n",
      "source unique values:\n",
      "['Haymarket Square' 'Back Bay' 'North End' 'North Station' 'Beacon Hill'\n",
      " 'Boston University' 'Fenway' 'South Station' 'Theatre District'\n",
      " 'West End' 'Financial District' 'Northeastern University']\n",
      "\n",
      "destination unique values:\n",
      "['North Station' 'Northeastern University' 'West End' 'Haymarket Square'\n",
      " 'South Station' 'Fenway' 'Theatre District' 'Beacon Hill' 'Back Bay'\n",
      " 'North End' 'Financial District' 'Boston University']\n"
     ]
    }
   ],
   "source": [
    "# Unique values in key categorical columns\n",
    "for col in ['cab_type', 'name', 'source', 'destination']:\n",
    "    print(f\"\\n{col} unique values:\")\n",
    "    print(df[col].unique())\n"
   ]
  },
  {
   "cell_type": "code",
   "execution_count": 14,
   "id": "a931e3f4",
   "metadata": {},
   "outputs": [
    {
     "name": "stdout",
     "output_type": "stream",
     "text": [
      "\n",
      "Numerical columns: ['timestamp', 'hour', 'day', 'month', 'price', 'distance', 'surge_multiplier', 'latitude', 'longitude', 'temperature', 'apparentTemperature', 'precipIntensity', 'precipProbability', 'humidity', 'windSpeed', 'windGust', 'windGustTime', 'visibility', 'temperatureHigh', 'temperatureHighTime', 'temperatureLow', 'temperatureLowTime', 'apparentTemperatureHigh', 'apparentTemperatureHighTime', 'apparentTemperatureLow', 'apparentTemperatureLowTime', 'dewPoint', 'pressure', 'windBearing', 'cloudCover', 'uvIndex', 'visibility.1', 'ozone', 'sunriseTime', 'sunsetTime', 'moonPhase', 'precipIntensityMax', 'uvIndexTime', 'temperatureMin', 'temperatureMinTime', 'temperatureMax', 'temperatureMaxTime', 'apparentTemperatureMin', 'apparentTemperatureMinTime', 'apparentTemperatureMax', 'apparentTemperatureMaxTime']\n"
     ]
    }
   ],
   "source": [
    "# Numerical features\n",
    "numerical_cols = df.select_dtypes(include=['int64', 'float64']).columns\n",
    "print(\"\\nNumerical columns:\", numerical_cols.tolist())\n"
   ]
  },
  {
   "cell_type": "code",
   "execution_count": 15,
   "id": "5b22d930",
   "metadata": {},
   "outputs": [
    {
     "name": "stdout",
     "output_type": "stream",
     "text": [
      "\n",
      "Numerical feature stats:\n",
      "          timestamp           hour            day          month  \\\n",
      "count  6.379760e+05  637976.000000  637976.000000  637976.000000   \n",
      "mean   1.544046e+09      11.618528      17.797674      11.586550   \n",
      "std    6.892028e+05       6.948776       9.982083       0.492452   \n",
      "min    1.543204e+09       0.000000       1.000000      11.000000   \n",
      "25%    1.543444e+09       6.000000      13.000000      11.000000   \n",
      "50%    1.543737e+09      12.000000      17.000000      12.000000   \n",
      "75%    1.544828e+09      18.000000      28.000000      12.000000   \n",
      "max    1.545161e+09      23.000000      30.000000      12.000000   \n",
      "\n",
      "               price       distance  surge_multiplier       latitude  \\\n",
      "count  637976.000000  637976.000000     637976.000000  637976.000000   \n",
      "mean       16.545125       2.189261          1.015068      42.338161   \n",
      "std         9.324359       1.135413          0.095422       0.047856   \n",
      "min         2.500000       0.020000          1.000000      42.214800   \n",
      "25%         9.000000       1.270000          1.000000      42.350300   \n",
      "50%        13.500000       2.160000          1.000000      42.351900   \n",
      "75%        22.500000       2.930000          1.000000      42.364700   \n",
      "max        97.500000       7.860000          3.000000      42.366100   \n",
      "\n",
      "           longitude    temperature  ...  precipIntensityMax   uvIndexTime  \\\n",
      "count  637976.000000  637976.000000  ...       637976.000000  6.379760e+05   \n",
      "mean      -71.066144      39.582406  ...            0.037369  1.544044e+09   \n",
      "std         0.020303       6.725500  ...            0.055216  6.912268e+05   \n",
      "min       -71.105400      18.910000  ...            0.000000  1.543162e+09   \n",
      "25%       -71.081000      36.450000  ...            0.000000  1.543421e+09   \n",
      "50%       -71.063100      40.490000  ...            0.000400  1.543770e+09   \n",
      "75%       -71.054200      43.580000  ...            0.091600  1.544807e+09   \n",
      "max       -71.033000      57.220000  ...            0.145900  1.545152e+09   \n",
      "\n",
      "       temperatureMin  temperatureMinTime  temperatureMax  temperatureMaxTime  \\\n",
      "count   637976.000000        6.379760e+05   637976.000000        6.379760e+05   \n",
      "mean        33.456171        1.544042e+09       45.259945        1.544047e+09   \n",
      "std          6.466349        6.902087e+05        5.644414        6.901597e+05   \n",
      "min         15.630000        1.543122e+09       33.510000        1.543154e+09   \n",
      "25%         30.170000        1.543399e+09       42.570000        1.543439e+09   \n",
      "50%         34.240000        1.543727e+09       44.660000        1.543788e+09   \n",
      "75%         38.880000        1.544789e+09       46.910000        1.544814e+09   \n",
      "max         43.100000        1.545192e+09       57.870000        1.545109e+09   \n",
      "\n",
      "       apparentTemperatureMin  apparentTemperatureMinTime  \\\n",
      "count           637976.000000                6.379760e+05   \n",
      "mean                29.729028                1.544048e+09   \n",
      "std                  7.109907                6.872011e+05   \n",
      "min                 11.810000                1.543136e+09   \n",
      "25%                 27.760000                1.543399e+09   \n",
      "50%                 30.130000                1.543745e+09   \n",
      "75%                 35.710000                1.544789e+09   \n",
      "max                 40.050000                1.545134e+09   \n",
      "\n",
      "       apparentTemperatureMax  apparentTemperatureMaxTime  \n",
      "count           637976.000000                6.379760e+05  \n",
      "mean                41.995876                1.544048e+09  \n",
      "std                  6.935538                6.911036e+05  \n",
      "min                 28.950000                1.543187e+09  \n",
      "25%                 36.570000                1.543439e+09  \n",
      "50%                 40.950000                1.543788e+09  \n",
      "75%                 44.120000                1.544818e+09  \n",
      "max                 57.200000                1.545109e+09  \n",
      "\n",
      "[8 rows x 46 columns]\n"
     ]
    }
   ],
   "source": [
    "# Basic stats\n",
    "print(\"\\nNumerical feature stats:\")\n",
    "print(df[numerical_cols].describe())"
   ]
  },
  {
   "cell_type": "markdown",
   "id": "f9c673ca",
   "metadata": {},
   "source": [
    "# Feature Engineering\n"
   ]
  },
  {
   "cell_type": "code",
   "execution_count": 16,
   "id": "9c74c3a8",
   "metadata": {},
   "outputs": [],
   "source": [
    "# Convert datetime column to proper datetime type\n",
    "df['datetime'] = pd.to_datetime(df['datetime'], errors='coerce')"
   ]
  },
  {
   "cell_type": "code",
   "execution_count": 17,
   "id": "b381fefd",
   "metadata": {},
   "outputs": [],
   "source": [
    "\n",
    "# Extract day of week (0 = Monday, 6 = Sunday)\n",
    "df['day_of_week'] = df['datetime'].dt.dayofweek\n"
   ]
  },
  {
   "cell_type": "code",
   "execution_count": 18,
   "id": "4be86cc3",
   "metadata": {},
   "outputs": [],
   "source": [
    "# Flag weekends\n",
    "df['is_weekend'] = df['day_of_week'].apply(lambda x: 1 if x >= 5 else 0)"
   ]
  },
  {
   "cell_type": "code",
   "execution_count": 19,
   "id": "3be00f84",
   "metadata": {},
   "outputs": [],
   "source": [
    "# Create route feature (source-destination pair)\n",
    "df['route'] = df['source'] + \"_to_\" + df['destination']\n"
   ]
  },
  {
   "cell_type": "code",
   "execution_count": 20,
   "id": "99932df4",
   "metadata": {},
   "outputs": [],
   "source": [
    "# Surge effect feature\n",
    "df['surge_effect'] = df['distance'] * df['surge_multiplier']"
   ]
  },
  {
   "cell_type": "code",
   "execution_count": 21,
   "id": "d67452d1",
   "metadata": {},
   "outputs": [
    {
     "data": {
      "text/html": [
       "<div>\n",
       "<style scoped>\n",
       "    .dataframe tbody tr th:only-of-type {\n",
       "        vertical-align: middle;\n",
       "    }\n",
       "\n",
       "    .dataframe tbody tr th {\n",
       "        vertical-align: top;\n",
       "    }\n",
       "\n",
       "    .dataframe thead th {\n",
       "        text-align: right;\n",
       "    }\n",
       "</style>\n",
       "<table border=\"1\" class=\"dataframe\">\n",
       "  <thead>\n",
       "    <tr style=\"text-align: right;\">\n",
       "      <th></th>\n",
       "      <th>day_of_week</th>\n",
       "      <th>is_weekend</th>\n",
       "      <th>route</th>\n",
       "      <th>surge_effect</th>\n",
       "      <th>weather_simple</th>\n",
       "    </tr>\n",
       "  </thead>\n",
       "  <tbody>\n",
       "    <tr>\n",
       "      <th>0</th>\n",
       "      <td>6</td>\n",
       "      <td>1</td>\n",
       "      <td>Haymarket Square_to_North Station</td>\n",
       "      <td>0.44</td>\n",
       "      <td>cloudy</td>\n",
       "    </tr>\n",
       "    <tr>\n",
       "      <th>1</th>\n",
       "      <td>1</td>\n",
       "      <td>0</td>\n",
       "      <td>Haymarket Square_to_North Station</td>\n",
       "      <td>0.44</td>\n",
       "      <td>rainy</td>\n",
       "    </tr>\n",
       "    <tr>\n",
       "      <th>2</th>\n",
       "      <td>2</td>\n",
       "      <td>0</td>\n",
       "      <td>Haymarket Square_to_North Station</td>\n",
       "      <td>0.44</td>\n",
       "      <td>clear</td>\n",
       "    </tr>\n",
       "    <tr>\n",
       "      <th>3</th>\n",
       "      <td>4</td>\n",
       "      <td>0</td>\n",
       "      <td>Haymarket Square_to_North Station</td>\n",
       "      <td>0.44</td>\n",
       "      <td>clear</td>\n",
       "    </tr>\n",
       "    <tr>\n",
       "      <th>4</th>\n",
       "      <td>3</td>\n",
       "      <td>0</td>\n",
       "      <td>Haymarket Square_to_North Station</td>\n",
       "      <td>0.44</td>\n",
       "      <td>cloudy</td>\n",
       "    </tr>\n",
       "  </tbody>\n",
       "</table>\n",
       "</div>"
      ],
      "text/plain": [
       "   day_of_week  is_weekend                              route  surge_effect  \\\n",
       "0            6           1  Haymarket Square_to_North Station          0.44   \n",
       "1            1           0  Haymarket Square_to_North Station          0.44   \n",
       "2            2           0  Haymarket Square_to_North Station          0.44   \n",
       "3            4           0  Haymarket Square_to_North Station          0.44   \n",
       "4            3           0  Haymarket Square_to_North Station          0.44   \n",
       "\n",
       "  weather_simple  \n",
       "0         cloudy  \n",
       "1          rainy  \n",
       "2          clear  \n",
       "3          clear  \n",
       "4         cloudy  "
      ]
     },
     "execution_count": 21,
     "metadata": {},
     "output_type": "execute_result"
    }
   ],
   "source": [
    "# Simplify weather conditions from icon column\n",
    "def simplify_weather(icon):\n",
    "    if pd.isna(icon):\n",
    "        return \"unknown\"\n",
    "    if \"rain\" in icon.lower():\n",
    "        return \"rainy\"\n",
    "    if \"clear\" in icon.lower():\n",
    "        return \"clear\"\n",
    "    if \"cloud\" in icon.lower():\n",
    "        return \"cloudy\"\n",
    "    return \"other\"\n",
    "df['weather_simple'] = df['icon'].apply(simplify_weather)\n",
    "\n",
    "df[['day_of_week', 'is_weekend', 'route', 'surge_effect', 'weather_simple']].head()"
   ]
  },
  {
   "cell_type": "code",
   "execution_count": 22,
   "id": "46596520",
   "metadata": {},
   "outputs": [],
   "source": [
    "# One-hot encode small category sets\n",
    "df = pd.get_dummies(df, columns=['cab_type', 'name', 'weather_simple'], drop_first=True)"
   ]
  },
  {
   "cell_type": "code",
   "execution_count": 23,
   "id": "4e2a162e",
   "metadata": {},
   "outputs": [
    {
     "data": {
      "text/html": [
       "<div>\n",
       "<style scoped>\n",
       "    .dataframe tbody tr th:only-of-type {\n",
       "        vertical-align: middle;\n",
       "    }\n",
       "\n",
       "    .dataframe tbody tr th {\n",
       "        vertical-align: top;\n",
       "    }\n",
       "\n",
       "    .dataframe thead th {\n",
       "        text-align: right;\n",
       "    }\n",
       "</style>\n",
       "<table border=\"1\" class=\"dataframe\">\n",
       "  <thead>\n",
       "    <tr style=\"text-align: right;\">\n",
       "      <th></th>\n",
       "      <th>id</th>\n",
       "      <th>timestamp</th>\n",
       "      <th>hour</th>\n",
       "      <th>day</th>\n",
       "      <th>month</th>\n",
       "      <th>datetime</th>\n",
       "      <th>timezone</th>\n",
       "      <th>source</th>\n",
       "      <th>destination</th>\n",
       "      <th>product_id</th>\n",
       "      <th>...</th>\n",
       "      <th>name_Lyft</th>\n",
       "      <th>name_Lyft XL</th>\n",
       "      <th>name_Shared</th>\n",
       "      <th>name_UberPool</th>\n",
       "      <th>name_UberX</th>\n",
       "      <th>name_UberXL</th>\n",
       "      <th>name_WAV</th>\n",
       "      <th>weather_simple_cloudy</th>\n",
       "      <th>weather_simple_other</th>\n",
       "      <th>weather_simple_rainy</th>\n",
       "    </tr>\n",
       "  </thead>\n",
       "  <tbody>\n",
       "    <tr>\n",
       "      <th>0</th>\n",
       "      <td>424553bb-7174-41ea-aeb4-fe06d4f4b9d7</td>\n",
       "      <td>1.544953e+09</td>\n",
       "      <td>9</td>\n",
       "      <td>16</td>\n",
       "      <td>12</td>\n",
       "      <td>2018-12-16 09:30:07</td>\n",
       "      <td>America/New_York</td>\n",
       "      <td>5</td>\n",
       "      <td>7</td>\n",
       "      <td>lyft_line</td>\n",
       "      <td>...</td>\n",
       "      <td>False</td>\n",
       "      <td>False</td>\n",
       "      <td>True</td>\n",
       "      <td>False</td>\n",
       "      <td>False</td>\n",
       "      <td>False</td>\n",
       "      <td>False</td>\n",
       "      <td>True</td>\n",
       "      <td>False</td>\n",
       "      <td>False</td>\n",
       "    </tr>\n",
       "    <tr>\n",
       "      <th>1</th>\n",
       "      <td>4bd23055-6827-41c6-b23b-3c491f24e74d</td>\n",
       "      <td>1.543284e+09</td>\n",
       "      <td>2</td>\n",
       "      <td>27</td>\n",
       "      <td>11</td>\n",
       "      <td>2018-11-27 02:00:23</td>\n",
       "      <td>America/New_York</td>\n",
       "      <td>5</td>\n",
       "      <td>7</td>\n",
       "      <td>lyft_premier</td>\n",
       "      <td>...</td>\n",
       "      <td>False</td>\n",
       "      <td>False</td>\n",
       "      <td>False</td>\n",
       "      <td>False</td>\n",
       "      <td>False</td>\n",
       "      <td>False</td>\n",
       "      <td>False</td>\n",
       "      <td>False</td>\n",
       "      <td>False</td>\n",
       "      <td>True</td>\n",
       "    </tr>\n",
       "    <tr>\n",
       "      <th>2</th>\n",
       "      <td>981a3613-77af-4620-a42a-0c0866077d1e</td>\n",
       "      <td>1.543367e+09</td>\n",
       "      <td>1</td>\n",
       "      <td>28</td>\n",
       "      <td>11</td>\n",
       "      <td>2018-11-28 01:00:22</td>\n",
       "      <td>America/New_York</td>\n",
       "      <td>5</td>\n",
       "      <td>7</td>\n",
       "      <td>lyft</td>\n",
       "      <td>...</td>\n",
       "      <td>True</td>\n",
       "      <td>False</td>\n",
       "      <td>False</td>\n",
       "      <td>False</td>\n",
       "      <td>False</td>\n",
       "      <td>False</td>\n",
       "      <td>False</td>\n",
       "      <td>False</td>\n",
       "      <td>False</td>\n",
       "      <td>False</td>\n",
       "    </tr>\n",
       "    <tr>\n",
       "      <th>3</th>\n",
       "      <td>c2d88af2-d278-4bfd-a8d0-29ca77cc5512</td>\n",
       "      <td>1.543554e+09</td>\n",
       "      <td>4</td>\n",
       "      <td>30</td>\n",
       "      <td>11</td>\n",
       "      <td>2018-11-30 04:53:02</td>\n",
       "      <td>America/New_York</td>\n",
       "      <td>5</td>\n",
       "      <td>7</td>\n",
       "      <td>lyft_luxsuv</td>\n",
       "      <td>...</td>\n",
       "      <td>False</td>\n",
       "      <td>False</td>\n",
       "      <td>False</td>\n",
       "      <td>False</td>\n",
       "      <td>False</td>\n",
       "      <td>False</td>\n",
       "      <td>False</td>\n",
       "      <td>False</td>\n",
       "      <td>False</td>\n",
       "      <td>False</td>\n",
       "    </tr>\n",
       "    <tr>\n",
       "      <th>4</th>\n",
       "      <td>e0126e1f-8ca9-4f2e-82b3-50505a09db9a</td>\n",
       "      <td>1.543463e+09</td>\n",
       "      <td>3</td>\n",
       "      <td>29</td>\n",
       "      <td>11</td>\n",
       "      <td>2018-11-29 03:49:20</td>\n",
       "      <td>America/New_York</td>\n",
       "      <td>5</td>\n",
       "      <td>7</td>\n",
       "      <td>lyft_plus</td>\n",
       "      <td>...</td>\n",
       "      <td>False</td>\n",
       "      <td>True</td>\n",
       "      <td>False</td>\n",
       "      <td>False</td>\n",
       "      <td>False</td>\n",
       "      <td>False</td>\n",
       "      <td>False</td>\n",
       "      <td>True</td>\n",
       "      <td>False</td>\n",
       "      <td>False</td>\n",
       "    </tr>\n",
       "  </tbody>\n",
       "</table>\n",
       "<p>5 rows × 74 columns</p>\n",
       "</div>"
      ],
      "text/plain": [
       "                                     id     timestamp  hour  day  month  \\\n",
       "0  424553bb-7174-41ea-aeb4-fe06d4f4b9d7  1.544953e+09     9   16     12   \n",
       "1  4bd23055-6827-41c6-b23b-3c491f24e74d  1.543284e+09     2   27     11   \n",
       "2  981a3613-77af-4620-a42a-0c0866077d1e  1.543367e+09     1   28     11   \n",
       "3  c2d88af2-d278-4bfd-a8d0-29ca77cc5512  1.543554e+09     4   30     11   \n",
       "4  e0126e1f-8ca9-4f2e-82b3-50505a09db9a  1.543463e+09     3   29     11   \n",
       "\n",
       "             datetime          timezone  source  destination    product_id  \\\n",
       "0 2018-12-16 09:30:07  America/New_York       5            7     lyft_line   \n",
       "1 2018-11-27 02:00:23  America/New_York       5            7  lyft_premier   \n",
       "2 2018-11-28 01:00:22  America/New_York       5            7          lyft   \n",
       "3 2018-11-30 04:53:02  America/New_York       5            7   lyft_luxsuv   \n",
       "4 2018-11-29 03:49:20  America/New_York       5            7     lyft_plus   \n",
       "\n",
       "   ...  name_Lyft  name_Lyft XL  name_Shared  name_UberPool  name_UberX  \\\n",
       "0  ...      False         False         True          False       False   \n",
       "1  ...      False         False        False          False       False   \n",
       "2  ...       True         False        False          False       False   \n",
       "3  ...      False         False        False          False       False   \n",
       "4  ...      False          True        False          False       False   \n",
       "\n",
       "   name_UberXL  name_WAV  weather_simple_cloudy  weather_simple_other  \\\n",
       "0        False     False                   True                 False   \n",
       "1        False     False                  False                 False   \n",
       "2        False     False                  False                 False   \n",
       "3        False     False                  False                 False   \n",
       "4        False     False                   True                 False   \n",
       "\n",
       "   weather_simple_rainy  \n",
       "0                 False  \n",
       "1                  True  \n",
       "2                 False  \n",
       "3                 False  \n",
       "4                 False  \n",
       "\n",
       "[5 rows x 74 columns]"
      ]
     },
     "execution_count": 23,
     "metadata": {},
     "output_type": "execute_result"
    }
   ],
   "source": [
    "# Label encode large category sets\n",
    "from sklearn.calibration import LabelEncoder\n",
    "\n",
    "\n",
    "label_cols = ['source', 'destination', 'route', 'icon', 'short_summary', 'long_summary']\n",
    "le = LabelEncoder()\n",
    "for col in label_cols:\n",
    "    df[col] = le.fit_transform(df[col])\n",
    "\n",
    "df.head()"
   ]
  },
  {
   "cell_type": "code",
   "execution_count": 25,
   "id": "cd32b86f",
   "metadata": {},
   "outputs": [
    {
     "name": "stdout",
     "output_type": "stream",
     "text": [
      "✅ Data preprocessing complete. Cleaned file saved to: C:\\Users\\USER\\Documents\\CPEN -L300\\PRESENT\\2ND SEM\\SENG 316 AI\\Project\\rideshare_cleaned.csv\n",
      "Final shape: (637976, 74)\n"
     ]
    }
   ],
   "source": [
    "# Save the final cleaned dataset\n",
    "output_path = r\"C:\\Users\\USER\\Documents\\CPEN -L300\\PRESENT\\2ND SEM\\SENG 316 AI\\Project\\rideshare_cleaned.csv\"\n",
    "df.to_csv(output_path, index=False)\n",
    "\n",
    "print(f\"✅ Data preprocessing complete. Cleaned file saved to: {output_path}\")\n",
    "print(\"Final shape:\", df.shape)"
   ]
  },
  {
   "cell_type": "code",
   "execution_count": null,
   "id": "3a1a18ad",
   "metadata": {},
   "outputs": [],
   "source": []
  }
 ],
 "metadata": {
  "kernelspec": {
   "display_name": "Python 3",
   "language": "python",
   "name": "python3"
  },
  "language_info": {
   "codemirror_mode": {
    "name": "ipython",
    "version": 3
   },
   "file_extension": ".py",
   "mimetype": "text/x-python",
   "name": "python",
   "nbconvert_exporter": "python",
   "pygments_lexer": "ipython3",
   "version": "3.13.0"
  }
 },
 "nbformat": 4,
 "nbformat_minor": 5
}
